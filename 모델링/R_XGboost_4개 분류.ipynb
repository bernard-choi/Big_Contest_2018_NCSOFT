{
 "cells": [
  {
   "cell_type": "code",
   "execution_count": 3,
   "metadata": {},
   "outputs": [
    {
     "name": "stderr",
     "output_type": "stream",
     "text": [
      "also installing the dependency ‘data.table’\n",
      "\n",
      "Updating HTML index of packages in '.Library'\n",
      "Making 'packages.html' ... done\n"
     ]
    }
   ],
   "source": [
    "install.packages('xgboost')"
   ]
  },
  {
   "cell_type": "code",
   "execution_count": 4,
   "metadata": {
    "scrolled": true
   },
   "outputs": [
    {
     "name": "stderr",
     "output_type": "stream",
     "text": [
      "\n",
      "Attaching package: ‘xgboost’\n",
      "\n",
      "The following object is masked from ‘package:dplyr’:\n",
      "\n",
      "    slice\n",
      "\n"
     ]
    }
   ],
   "source": [
    "library(dplyr)\n",
    "library(xgboost)\n",
    "library(reshape2)"
   ]
  },
  {
   "cell_type": "code",
   "execution_count": 63,
   "metadata": {},
   "outputs": [],
   "source": [
    "train = read.csv(\"trainset.csv\")"
   ]
  },
  {
   "cell_type": "code",
   "execution_count": 64,
   "metadata": {},
   "outputs": [],
   "source": [
    "test = read.csv(\"testset.csv\")"
   ]
  },
  {
   "cell_type": "code",
   "execution_count": 76,
   "metadata": {},
   "outputs": [],
   "source": [
    "valid = read.csv(\"for_f1.csv\")"
   ]
  },
  {
   "cell_type": "code",
   "execution_count": 65,
   "metadata": {},
   "outputs": [],
   "source": [
    "{\n",
    "  data1 = train  %>% filter(length == 1) %>% unique()\n",
    "  data2 = train  %>% filter(length == 2) %>% unique()\n",
    "  data3 = train  %>% filter(length == 3) %>% unique()\n",
    "  data4 = train  %>% filter(length == 4) %>% unique()\n",
    "  data5 = train  %>% filter(length == 5) %>% unique()\n",
    "  data6 = train  %>% filter(length == 6) %>% unique()\n",
    "  data7 = train  %>% filter(length == 7) %>% unique()\n",
    "  data8 = train  %>% filter(length == 8) %>% unique()\n",
    "}\n",
    "{\n",
    "  tdata1 = test  %>% filter(length == 1) %>% unique()\n",
    "  tdata2 = test  %>% filter(length == 2) %>% unique()\n",
    "  tdata3 = test  %>% filter(length == 3) %>% unique()\n",
    "  tdata4 = test  %>% filter(length == 4) %>% unique()\n",
    "  tdata5 = test  %>% filter(length == 5) %>% unique()\n",
    "  tdata6 = test  %>% filter(length == 6) %>% unique()\n",
    "  tdata7 = test  %>% filter(length == 7) %>% unique()\n",
    "  tdata8 = test  %>% filter(length == 8) %>% unique()\n",
    "}"
   ]
  },
  {
   "cell_type": "code",
   "execution_count": 66,
   "metadata": {},
   "outputs": [],
   "source": [
    "### Long to wide format\n",
    "{\n",
    "  wide1 = data1\n",
    "  wide2 = data2  %>% group_by(acc_id) %>% mutate(index = row_number()) %>% as.data.frame()\n",
    "  wide2 = reshape(wide2, idvar = \"acc_id\", timevar = \"index\", direction = \"wide\")\n",
    "  wide3 = data3  %>% group_by(acc_id) %>% mutate(index = row_number()) %>% as.data.frame()\n",
    "  wide3 = reshape(wide3, idvar = \"acc_id\", timevar = \"index\", direction = \"wide\")\n",
    "  wide4 = data4  %>% group_by(acc_id) %>% mutate(index = row_number()) %>% as.data.frame()\n",
    "  wide4 = reshape(wide4, idvar = \"acc_id\", timevar = \"index\", direction = \"wide\")\n",
    "  wide5 = data5  %>% group_by(acc_id) %>% mutate(index = row_number()) %>% as.data.frame()\n",
    "  wide5 = reshape(wide5, idvar = \"acc_id\", timevar = \"index\", direction = \"wide\")\n",
    "  wide6 = data6  %>% group_by(acc_id) %>% mutate(index = row_number()) %>% as.data.frame()\n",
    "  wide6 = reshape(wide6, idvar = \"acc_id\", timevar = \"index\", direction = \"wide\")\n",
    "  wide7 = data7  %>% group_by(acc_id) %>% mutate(index = row_number()) %>% as.data.frame()\n",
    "  wide7 = reshape(wide7, idvar = \"acc_id\", timevar = \"index\", direction = \"wide\")\n",
    "  wide8 = data8  %>% group_by(acc_id) %>% mutate(index = row_number()) %>% as.data.frame()\n",
    "  wide8 = reshape(wide8, idvar = \"acc_id\", timevar = \"index\", direction = \"wide\")\n",
    "}\n",
    "\n",
    "\n",
    "{\n",
    "  twide1 = tdata1\n",
    "  twide2 = tdata2  %>% group_by(acc_id) %>% mutate(index = row_number()) %>% as.data.frame()\n",
    "  twide2 = reshape(twide2, idvar = \"acc_id\", timevar = \"index\", direction = \"wide\")\n",
    "  twide3 = tdata3  %>% group_by(acc_id) %>% mutate(index = row_number()) %>% as.data.frame()\n",
    "  twide3 = reshape(twide3, idvar = \"acc_id\", timevar = \"index\", direction = \"wide\")\n",
    "  twide4 = tdata4  %>% group_by(acc_id) %>% mutate(index = row_number()) %>% as.data.frame()\n",
    "  twide4 = reshape(twide4, idvar = \"acc_id\", timevar = \"index\", direction = \"wide\")\n",
    "  twide5 = tdata5  %>% group_by(acc_id) %>% mutate(index = row_number()) %>% as.data.frame()\n",
    "  twide5 = reshape(twide5, idvar = \"acc_id\", timevar = \"index\", direction = \"wide\")\n",
    "  twide6 = tdata6  %>% group_by(acc_id) %>% mutate(index = row_number()) %>% as.data.frame()\n",
    "  twide6 = reshape(twide6, idvar = \"acc_id\", timevar = \"index\", direction = \"wide\")\n",
    "  twide7 = tdata7  %>% group_by(acc_id) %>% mutate(index = row_number()) %>% as.data.frame()\n",
    "  twide7 = reshape(twide7, idvar = \"acc_id\", timevar = \"index\", direction = \"wide\")\n",
    "  twide8 = tdata8  %>% group_by(acc_id) %>% mutate(index = row_number()) %>% as.data.frame()\n",
    "  twide8 = reshape(twide8, idvar = \"acc_id\", timevar = \"index\", direction = \"wide\")\n",
    "}"
   ]
  },
  {
   "cell_type": "code",
   "execution_count": 67,
   "metadata": {},
   "outputs": [],
   "source": [
    "{\n",
    "  id_1  = wide1 %>% dplyr::select(acc_id)\n",
    "  id_2  = wide2 %>% dplyr::select(acc_id)\n",
    "  id_3  = wide3 %>% dplyr::select(acc_id)\n",
    "  id_4  = wide4 %>% dplyr::select(acc_id)\n",
    "  id_5  = wide5 %>% dplyr::select(acc_id)\n",
    "  id_6  = wide6 %>% dplyr::select(acc_id)\n",
    "  id_7  = wide7 %>% dplyr::select(acc_id)\n",
    "  id_8  = wide8 %>% dplyr::select(acc_id)\n",
    "  \n",
    "  tid_1  = twide1 %>% dplyr::select(acc_id)\n",
    "  tid_2  = twide2 %>% dplyr::select(acc_id)\n",
    "  tid_3  = twide3 %>% dplyr::select(acc_id)\n",
    "  tid_4  = twide4 %>% dplyr::select(acc_id)\n",
    "  tid_5  = twide5 %>% dplyr::select(acc_id)\n",
    "  tid_6  = twide6 %>% dplyr::select(acc_id)\n",
    "  tid_7  = twide7 %>% dplyr::select(acc_id)\n",
    "  tid_8  = twide8 %>% dplyr::select(acc_id)  \n",
    "}"
   ]
  },
  {
   "cell_type": "code",
   "execution_count": 68,
   "metadata": {},
   "outputs": [],
   "source": [
    "{\n",
    "  wide1 = wide1 %>% dplyr::select(-wk, -acc_id)\n",
    "  wide2 = wide2 %>% dplyr::select(-wk.1, -wk.2, -acc_id)\n",
    "  wide3 = wide3 %>% dplyr::select(-wk.1, -wk.2, -wk.3, -acc_id)\n",
    "  wide4 = wide4 %>% dplyr::select(-wk.1, -wk.2, -wk.3, -wk.4, -acc_id)\n",
    "  wide5 = wide5 %>% dplyr::select(-wk.1, -wk.2, -wk.3, -wk.4, -wk.5, -acc_id)\n",
    "  wide6 = wide6 %>% dplyr::select(-wk.1, -wk.2, -wk.3, -wk.4, -wk.5, -wk.6, -acc_id)\n",
    "  wide7 = wide7 %>% dplyr::select(-wk.1, -wk.2, -wk.3, -wk.4, -wk.5, -wk.6, -wk.7, -acc_id)\n",
    "  wide8 = wide8 %>% dplyr::select(-wk.1, -wk.2, -wk.3, -wk.4, -wk.5, -wk.6, -wk.7, -wk.8, -acc_id)  \n",
    "}\n",
    "\n",
    "\n",
    "{\n",
    "  twide1 = twide1 %>% dplyr::select(-wk, -acc_id)\n",
    "  twide2 = twide2 %>% dplyr::select(-wk.1, -wk.2, -acc_id)\n",
    "  twide3 = twide3 %>% dplyr::select(-wk.1, -wk.2, -wk.3, -acc_id)\n",
    "  twide4 = twide4 %>% dplyr::select(-wk.1, -wk.2, -wk.3, -wk.4, -acc_id)\n",
    "  twide5 = twide5 %>% dplyr::select(-wk.1, -wk.2, -wk.3, -wk.4, -wk.5, -acc_id)\n",
    "  twide6 = twide6 %>% dplyr::select(-wk.1, -wk.2, -wk.3, -wk.4, -wk.5, -wk.6, -acc_id)\n",
    "  twide7 = twide7 %>% dplyr::select(-wk.1, -wk.2, -wk.3, -wk.4, -wk.5, -wk.6, -wk.7, -acc_id)\n",
    "  twide8 = twide8 %>% dplyr::select(-wk.1, -wk.2, -wk.3, -wk.4, -wk.5, -wk.6, -wk.7, -wk.8, -acc_id)  \n",
    "}"
   ]
  },
  {
   "cell_type": "code",
   "execution_count": 69,
   "metadata": {},
   "outputs": [],
   "source": [
    "# Make split index\n",
    "{\n",
    "  wide1$label = as.integer(wide1$label) - 1\n",
    "  wide1$label[which(wide1$label == 4)] = 3\n",
    "  ans1        = wide1$label\n",
    "  wide1       = wide1 %>% dplyr::select(-label)\n",
    "  data_matrix = xgb.DMatrix(data  = as.matrix(wide1), \n",
    "                            label = ans1)\n",
    "  \n",
    "  wide2$label.1 = as.integer(wide2$label.1) - 1\n",
    "  wide2$label.1[which(wide2$label.1 == 4)] = 3\n",
    "  ans2          = wide2$label.1\n",
    "  wide2         = wide2 %>% dplyr::select(-label.1, -label.2)\n",
    "  data_matrix2  = xgb.DMatrix(data  = as.matrix(wide2), \n",
    "                              label = ans2)\n",
    "  \n",
    "  wide3$label.1 = as.integer(wide3$label.1) - 1\n",
    "  wide3$label.1[which(wide3$label.1 == 4)] = 3\n",
    "  ans3          = wide3$label.1\n",
    "  wide3         = wide3 %>% dplyr::select(-label.1, -label.2, -label.3)\n",
    "  data_matrix3  = xgb.DMatrix(data  = as.matrix(wide3), \n",
    "                              label = ans3)\n",
    "  \n",
    "  wide4$label.1 = as.integer(wide4$label.1) - 1\n",
    "  wide4$label.1[which(wide4$label.1 == 4)] = 3\n",
    "  ans4          = wide4$label.1\n",
    "  wide4         = wide4 %>% dplyr::select(-label.1, -label.2, -label.3, -label.4)\n",
    "  data_matrix4  = xgb.DMatrix(data  = as.matrix(wide4), \n",
    "                              label = ans4)\n",
    "  \n",
    "  wide5$label.1 = as.integer(wide5$label.1) - 1\n",
    "  wide5$label.1[which(wide5$label.1 == 4)] = 3\n",
    "  ans5          = wide5$label.1\n",
    "  wide5         = wide5 %>% dplyr::select(-label.1, -label.2, -label.3, -label.4, -label.5)\n",
    "  data_matrix5  = xgb.DMatrix(data  = as.matrix(wide5), \n",
    "                              label = ans5)\n",
    "  \n",
    "  wide6$label.1 = as.integer(wide6$label.1) - 1\n",
    "  wide6$label.1[which(wide6$label.1 == 4)] = 3\n",
    "  ans6          = wide6$label.1\n",
    "  wide6         = wide6 %>% dplyr::select(-label.1, -label.2, -label.3, -label.4, -label.5, -label.6)\n",
    "  data_matrix6  = xgb.DMatrix(data  = as.matrix(wide6), \n",
    "                              label = ans6)\n",
    "  \n",
    "  wide7$label.1 = as.integer(wide7$label.1) - 1\n",
    "  wide7$label.1[which(wide7$label.1 == 4)] = 3\n",
    "  ans7          = wide7$label.1\n",
    "  wide7         = wide7 %>% dplyr::select(-label.1, -label.2, -label.3, -label.4, -label.5, -label.6, -label.7)\n",
    "  data_matrix7  = xgb.DMatrix(data  = as.matrix(wide7), \n",
    "                              label = ans7)\n",
    "  \n",
    "  wide8$label.1 = as.integer(wide8$label.1) - 1\n",
    "  wide8$label.1[which(wide8$label.1 == 4)] = 3\n",
    "  ans8          = wide8$label.1\n",
    "  wide8         = wide8 %>% dplyr::select(-label.1, -label.2, -label.3, -label.4, -label.5, -label.6, -label.7, -label.8)\n",
    "  data_matrix8  = xgb.DMatrix(data  = as.matrix(wide8), \n",
    "                              label = ans8)\n",
    "  \n",
    "}"
   ]
  },
  {
   "cell_type": "code",
   "execution_count": 70,
   "metadata": {},
   "outputs": [],
   "source": [
    "twide1 = twide1 %>% dplyr::select(-label)\n",
    "twide2 = twide2 %>% dplyr::select(-label.1, -label.2)\n",
    "twide3 = twide3 %>% dplyr::select(-label.1, -label.2, -label.3)\n",
    "twide4 = twide4 %>% dplyr::select(-label.1, -label.2, -label.3, -label.4)\n",
    "twide5 = twide5 %>% dplyr::select(-label.1, -label.2, -label.3, -label.4, -label.5)\n",
    "twide6 = twide6 %>% dplyr::select(-label.1, -label.2, -label.3, -label.4, -label.5, -label.6)\n",
    "twide7 = twide7 %>% dplyr::select(-label.1, -label.2, -label.3, -label.4, -label.5, -label.6, -label.7)\n",
    "twide8 = twide8 %>% dplyr::select(-label.1, -label.2, -label.3, -label.4, -label.5, -label.6, -label.7, -label.8)\n",
    "\n",
    "tdata_matrix1 = xgb.DMatrix(data  = as.matrix(twide1))\n",
    "tdata_matrix2 = xgb.DMatrix(data  = as.matrix(twide2))\n",
    "tdata_matrix3 = xgb.DMatrix(data  = as.matrix(twide3))\n",
    "tdata_matrix4 = xgb.DMatrix(data  = as.matrix(twide4))\n",
    "tdata_matrix5 = xgb.DMatrix(data  = as.matrix(twide5))\n",
    "tdata_matrix6 = xgb.DMatrix(data  = as.matrix(twide6))\n",
    "tdata_matrix7 = xgb.DMatrix(data  = as.matrix(twide7))\n",
    "tdata_matrix8 = xgb.DMatrix(data  = as.matrix(twide8))"
   ]
  },
  {
   "cell_type": "code",
   "execution_count": 71,
   "metadata": {},
   "outputs": [],
   "source": [
    "# XGboost (param 조정해야하는 거 많음)\n",
    "## User Function ##\n",
    "f1_calcul = function(table_eval){\n",
    "  {\n",
    "    fffmea = 8 / {\n",
    "      1 / (table_eval[1,1] / sum(table_eval[,1])) +\n",
    "        1 / (table_eval[2,2] / sum(table_eval[,2])) +\n",
    "        1 / (table_eval[3,3] / sum(table_eval[,3])) +\n",
    "        1 / (table_eval[4,4] / sum(table_eval[,4])) +\n",
    "        1 / (table_eval[1,1] / sum(table_eval[1,])) +\n",
    "        1 / (table_eval[2,2] / sum(table_eval[2,])) +\n",
    "        1 / (table_eval[3,3] / sum(table_eval[3,])) +\n",
    "        1 / (table_eval[4,4] / sum(table_eval[4,]))\n",
    "    } \n",
    "    return(fffmea)\n",
    "  }}"
   ]
  },
  {
   "cell_type": "code",
   "execution_count": 72,
   "metadata": {},
   "outputs": [],
   "source": [
    "as.numeric.factor = function(x) {as.numeric(levels(x))[x]}\n",
    "\n",
    "f1.max = function(preds, dtrain) {\n",
    "  labels = getinfo(dtrain, \"label\")\n",
    "  preds = matrix(preds, ncol=4, byrow=TRUE)\n",
    "  table_eval = table(apply(preds,1,which.max)-1, labels)\n",
    "  err = f1_calcul(table_eval)\n",
    "  return(list(metric = \"f1\", value = err))\n",
    "}"
   ]
  },
  {
   "cell_type": "code",
   "execution_count": 47,
   "metadata": {},
   "outputs": [],
   "source": [
    "{\n",
    "  xgb_params1 = list(objective = \"multi:softprob\",\n",
    "                     eval_metric = f1.max,\n",
    "                     num_class   = 4,\n",
    "                     max_depth   = 25,                       \n",
    "                     eta         = 0.08,                     \n",
    "                     gamma       = 0.3,\n",
    "                     lamda       = 0.0,\n",
    "                     alpha       = 1.0,\n",
    "                     max_delta_step = 5,                    \n",
    "                     colsample_bytree = 0.8,\n",
    "                     subsample = 0.8,\n",
    "                     min_child_weight = 5 )\n",
    "  xgb_params2 = list(objective = \"multi:softprob\",\n",
    "                     eval_metric = f1.max,\n",
    "                     num_class   = 4,\n",
    "                     max_depth   = 30,                       \n",
    "                     eta         = 0.08,                     \n",
    "                     gamma       = 0.3,\n",
    "                     lamda       = 0.0,\n",
    "                     alpha       = 1.0,\n",
    "                     max_delta_step = 5,                    \n",
    "                     colsample_bytree = 0.8,\n",
    "                     subsample = 0.8,\n",
    "                     min_child_weight = 5 )\n",
    "  xgb_params3 = list(objective = \"multi:softprob\",\n",
    "                     eval_metric = f1.max,\n",
    "                     num_class   = 4,\n",
    "                     max_depth   = 35,                       \n",
    "                     eta         = 0.08,                     \n",
    "                     gamma       = 0.3,\n",
    "                     lamda       = 0.0,\n",
    "                     alpha       = 1.0,\n",
    "                     max_delta_step = 5,                    \n",
    "                     colsample_bytree = 0.8,\n",
    "                     subsample = 0.8,\n",
    "                     min_child_weight = 5 )\n",
    "  xgb_params4 = list(objective = \"multi:softprob\",\n",
    "                     eval_metric = f1.max,\n",
    "                     num_class   = 4,\n",
    "                     max_depth   = 40,                       \n",
    "                     eta         = 0.08,                     \n",
    "                     gamma       = 0.3,\n",
    "                     lamda       = 0.0,\n",
    "                     alpha       = 1.0,\n",
    "                     max_delta_step = 5,                    \n",
    "                     colsample_bytree = 0.8,\n",
    "                     subsample = 0.8,\n",
    "                     min_child_weight = 5 )\n",
    "  xgb_params5 = list(objective = \"multi:softprob\",\n",
    "                     eval_metric = f1.max,\n",
    "                     num_class   = 4,\n",
    "                     max_depth   = 45,                       \n",
    "                     eta         = 0.08,                     \n",
    "                     gamma       = 0.3,\n",
    "                     lamda       = 0.0,\n",
    "                     alpha       = 1.0,\n",
    "                     max_delta_step = 5,                    \n",
    "                     colsample_bytree = 0.8,\n",
    "                     subsample = 0.8,\n",
    "                     min_child_weight = 5 )\n",
    "  xgb_params6 = list(objective = \"multi:softprob\",\n",
    "                     eval_metric = f1.max,\n",
    "                     num_class   = 4,\n",
    "                     max_depth   = 50,                       \n",
    "                     eta         = 0.08,                     \n",
    "                     gamma       = 0.3,\n",
    "                     lamda       = 0.0,\n",
    "                     alpha       = 1.0,\n",
    "                     max_delta_step = 5,                    \n",
    "                     colsample_bytree = 0.8,\n",
    "                     subsample = 0.8,\n",
    "                     min_child_weight = 5 )\n",
    "  xgb_params7 = list(objective = \"multi:softprob\",\n",
    "                     eval_metric = f1.max,\n",
    "                     num_class   = 4,\n",
    "                     max_depth   = 55,                       \n",
    "                     eta         = 0.08,                     \n",
    "                     gamma       = 0.3,\n",
    "                     lamda       = 0.0,\n",
    "                     alpha       = 1.0,\n",
    "                     max_delta_step = 5,                    \n",
    "                     colsample_bytree = 0.8,\n",
    "                     subsample = 0.8,\n",
    "                     min_child_weight = 5 )\n",
    "  xgb_params8 = list(objective = \"multi:softprob\",\n",
    "                     eval_metric = f1.max,\n",
    "                     num_class   = 4,\n",
    "                     max_depth   = 60,                       \n",
    "                     eta         = 0.08,                     \n",
    "                     gamma       = 0.3,\n",
    "                     lamda       = 0.0,\n",
    "                     alpha       = 1.0,\n",
    "                     max_delta_step = 5,                    \n",
    "                     colsample_bytree = 0.8,\n",
    "                     subsample = 0.8,\n",
    "                     min_child_weight = 5 )\n",
    "}"
   ]
  },
  {
   "cell_type": "code",
   "execution_count": 48,
   "metadata": {},
   "outputs": [],
   "source": [
    "{\n",
    "  model1 = xgboost(params = xgb_params1,\n",
    "                   data = data_matrix, \n",
    "                   nrounds = 114,\n",
    "                   #nfold = cv.nfold,\n",
    "                   verbose = FALSE,\n",
    "                   prediction = TRUE)\n",
    "  model2 = xgboost(params = xgb_params2,\n",
    "                   data = data_matrix2, \n",
    "                   nrounds = 89,\n",
    "                   #nfold = cv.nfold,\n",
    "                   verbose = FALSE,\n",
    "                   prediction = TRUE)\n",
    "  model3 = xgboost(params = xgb_params3,\n",
    "                   data = data_matrix3, \n",
    "                   nrounds = 31,\n",
    "                   #nfold = cv.nfold,\n",
    "                   verbose = FALSE,\n",
    "                   prediction = TRUE)\n",
    "  model4 = xgboost(params = xgb_params4,\n",
    "                   data = data_matrix4, \n",
    "                   nrounds = 107,\n",
    "                   #nfold = cv.nfold,\n",
    "                   verbose = FALSE,\n",
    "                   prediction = TRUE)\n",
    "  model5 = xgboost(params = xgb_params5,\n",
    "                   data = data_matrix5, \n",
    "                   nrounds = 141,\n",
    "                   #nfold = cv.nfold,\n",
    "                   verbose = FALSE,\n",
    "                   prediction = TRUE)\n",
    "  model6 = xgboost(params = xgb_params6,\n",
    "                   data = data_matrix6, \n",
    "                   nrounds = 131,\n",
    "                   #nfold = cv.nfold,\n",
    "                   verbose = FALSE,\n",
    "                   prediction = TRUE)\n",
    "  model7 = xgboost(params = xgb_params7,\n",
    "                   data = data_matrix7, \n",
    "                   nrounds = 76,\n",
    "                   #nfold = cv.nfold,\n",
    "                   verbose = FALSE,\n",
    "                   prediction = TRUE)\n",
    "  model8 = xgboost(params = xgb_params8,\n",
    "                   data = data_matrix8, \n",
    "                   nrounds = 173,\n",
    "                   #nfold = cv.nfold,\n",
    "                   verbose = FALSE,\n",
    "                   prediction = TRUE)\n",
    "}"
   ]
  },
  {
   "cell_type": "code",
   "execution_count": 49,
   "metadata": {},
   "outputs": [],
   "source": [
    "pred1 = predict(model1, data_matrix)\n",
    "pred1 = matrix(pred1, ncol=4, byrow=TRUE)\n",
    "\n",
    "pred2 = predict(model2, data_matrix2)\n",
    "pred2 = matrix(pred2, ncol=4, byrow=TRUE)\n",
    "\n",
    "pred3 = predict(model3, data_matrix3)\n",
    "pred3 = matrix(pred3, ncol=4, byrow=TRUE)\n",
    "\n",
    "pred4 = predict(model4, data_matrix4)\n",
    "pred4 = matrix(pred4, ncol=4, byrow=TRUE)\n",
    "\n",
    "pred5 = predict(model5, data_matrix5)\n",
    "pred5 = matrix(pred5, ncol=4, byrow=TRUE)\n",
    "\n",
    "pred6 = predict(model6, data_matrix6)\n",
    "pred6 = matrix(pred6, ncol=4, byrow=TRUE)\n",
    "\n",
    "pred7 = predict(model7, data_matrix7)\n",
    "pred7 = matrix(pred7, ncol=4, byrow=TRUE)\n",
    "\n",
    "pred8 = predict(model8, data_matrix8)\n",
    "pred8 = matrix(pred8, ncol=4, byrow=TRUE)"
   ]
  },
  {
   "cell_type": "code",
   "execution_count": 50,
   "metadata": {},
   "outputs": [],
   "source": [
    "tpred1 = predict(model1, tdata_matrix1)\n",
    "tpred1 = matrix(tpred1, ncol=4, byrow=TRUE)\n",
    "\n",
    "tpred2 = predict(model2, tdata_matrix2)\n",
    "tpred2 = matrix(tpred2, ncol=4, byrow=TRUE)\n",
    "\n",
    "tpred3 = predict(model3, tdata_matrix3)\n",
    "tpred3 = matrix(tpred3, ncol=4, byrow=TRUE)\n",
    "\n",
    "tpred4 = predict(model4, tdata_matrix4)\n",
    "tpred4 = matrix(tpred4, ncol=4, byrow=TRUE)\n",
    "\n",
    "tpred5 = predict(model5, tdata_matrix5)\n",
    "tpred5 = matrix(tpred5, ncol=4, byrow=TRUE)\n",
    "\n",
    "tpred6 = predict(model6, tdata_matrix6)\n",
    "tpred6 = matrix(tpred6, ncol=4, byrow=TRUE)\n",
    "\n",
    "tpred7 = predict(model7, tdata_matrix7)\n",
    "tpred7 = matrix(tpred7, ncol=4, byrow=TRUE)\n",
    "\n",
    "tpred8 = predict(model8, tdata_matrix8)\n",
    "tpred8 = matrix(tpred8, ncol=4, byrow=TRUE)"
   ]
  },
  {
   "cell_type": "code",
   "execution_count": 51,
   "metadata": {},
   "outputs": [
    {
     "data": {
      "text/html": [
       "0.891225525743292"
      ],
      "text/latex": [
       "0.891225525743292"
      ],
      "text/markdown": [
       "0.891225525743292"
      ],
      "text/plain": [
       "[1] 0.8912255"
      ]
     },
     "metadata": {},
     "output_type": "display_data"
    },
    {
     "data": {
      "text/html": [
       "0.963201180936314"
      ],
      "text/latex": [
       "0.963201180936314"
      ],
      "text/markdown": [
       "0.963201180936314"
      ],
      "text/plain": [
       "[1] 0.9632012"
      ]
     },
     "metadata": {},
     "output_type": "display_data"
    },
    {
     "data": {
      "text/html": [
       "0.893552957846263"
      ],
      "text/latex": [
       "0.893552957846263"
      ],
      "text/markdown": [
       "0.893552957846263"
      ],
      "text/plain": [
       "[1] 0.893553"
      ]
     },
     "metadata": {},
     "output_type": "display_data"
    },
    {
     "data": {
      "text/html": [
       "0.98939842209073"
      ],
      "text/latex": [
       "0.98939842209073"
      ],
      "text/markdown": [
       "0.98939842209073"
      ],
      "text/plain": [
       "[1] 0.9893984"
      ]
     },
     "metadata": {},
     "output_type": "display_data"
    },
    {
     "data": {
      "text/html": [
       "0.986903029501257"
      ],
      "text/latex": [
       "0.986903029501257"
      ],
      "text/markdown": [
       "0.986903029501257"
      ],
      "text/plain": [
       "[1] 0.986903"
      ]
     },
     "metadata": {},
     "output_type": "display_data"
    },
    {
     "data": {
      "text/html": [
       "0.991279557269831"
      ],
      "text/latex": [
       "0.991279557269831"
      ],
      "text/markdown": [
       "0.991279557269831"
      ],
      "text/plain": [
       "[1] 0.9912796"
      ]
     },
     "metadata": {},
     "output_type": "display_data"
    },
    {
     "data": {
      "text/html": [
       "0.977822580645161"
      ],
      "text/latex": [
       "0.977822580645161"
      ],
      "text/markdown": [
       "0.977822580645161"
      ],
      "text/plain": [
       "[1] 0.9778226"
      ]
     },
     "metadata": {},
     "output_type": "display_data"
    },
    {
     "data": {
      "text/html": [
       "0.998069598789586"
      ],
      "text/latex": [
       "0.998069598789586"
      ],
      "text/markdown": [
       "0.998069598789586"
      ],
      "text/plain": [
       "[1] 0.9980696"
      ]
     },
     "metadata": {},
     "output_type": "display_data"
    }
   ],
   "source": [
    "# accuracy\n",
    "sum((apply(pred1,1,which.max)-1) == ans1) / length(ans1)\n",
    "sum((apply(pred2,1,which.max)-1) == ans2) / length(ans2)\n",
    "sum((apply(pred3,1,which.max)-1) == ans3) / length(ans3)\n",
    "sum((apply(pred4,1,which.max)-1) == ans4) / length(ans4)\n",
    "sum((apply(pred5,1,which.max)-1) == ans5) / length(ans5)\n",
    "sum((apply(pred6,1,which.max)-1) == ans6) / length(ans6)\n",
    "sum((apply(pred7,1,which.max)-1) == ans7) / length(ans7)\n",
    "sum((apply(pred8,1,which.max)-1) == ans8) / length(ans8)"
   ]
  },
  {
   "cell_type": "code",
   "execution_count": 52,
   "metadata": {},
   "outputs": [],
   "source": [
    "label  = train %>% dplyr::select(label, acc_id) %>% unique()\n",
    "tlabel = test %>% dplyr::select(acc_id) %>% unique()"
   ]
  },
  {
   "cell_type": "code",
   "execution_count": 53,
   "metadata": {},
   "outputs": [],
   "source": [
    "softmax_1 = pred1 %>% as.data.frame() %>% as.tbl()\n",
    "summary_1 = id_1 %>% bind_cols(softmax_1)\n",
    "softmax_2 = pred2 %>% as.data.frame() %>% as.tbl()\n",
    "summary_2 = id_2 %>% bind_cols(softmax_2)\n",
    "softmax_3 = pred3 %>% as.data.frame() %>% as.tbl()\n",
    "summary_3 = id_3 %>% bind_cols(softmax_3)\n",
    "softmax_4 = pred4 %>% as.data.frame() %>% as.tbl()\n",
    "summary_4 = id_4 %>% bind_cols(softmax_4)\n",
    "softmax_5 = pred5 %>% as.data.frame() %>% as.tbl()\n",
    "summary_5 = id_5 %>% bind_cols(softmax_5)\n",
    "softmax_6 = pred6 %>% as.data.frame() %>% as.tbl()\n",
    "summary_6 = id_6 %>% bind_cols(softmax_6)\n",
    "softmax_7 = pred7 %>% as.data.frame() %>% as.tbl()\n",
    "summary_7 = id_7 %>% bind_cols(softmax_7)\n",
    "softmax_8 = pred8 %>% as.data.frame() %>% as.tbl()\n",
    "summary_8 = id_8 %>% bind_cols(softmax_8)"
   ]
  },
  {
   "cell_type": "code",
   "execution_count": 54,
   "metadata": {},
   "outputs": [],
   "source": [
    "tsoftmax_1 = tpred1 %>% as.data.frame() %>% as.tbl()\n",
    "tsummary_1 = tid_1 %>% bind_cols(tsoftmax_1)\n",
    "tsoftmax_2 = tpred2 %>% as.data.frame() %>% as.tbl()\n",
    "tsummary_2 = tid_2 %>% bind_cols(tsoftmax_2)\n",
    "tsoftmax_3 = tpred3 %>% as.data.frame() %>% as.tbl()\n",
    "tsummary_3 = tid_3 %>% bind_cols(tsoftmax_3)\n",
    "tsoftmax_4 = tpred4 %>% as.data.frame() %>% as.tbl()\n",
    "tsummary_4 = tid_4 %>% bind_cols(tsoftmax_4)\n",
    "tsoftmax_5 = tpred5 %>% as.data.frame() %>% as.tbl()\n",
    "tsummary_5 = tid_5 %>% bind_cols(tsoftmax_5)\n",
    "tsoftmax_6 = tpred6 %>% as.data.frame() %>% as.tbl()\n",
    "tsummary_6 = tid_6 %>% bind_cols(tsoftmax_6)\n",
    "tsoftmax_7 = tpred7 %>% as.data.frame() %>% as.tbl()\n",
    "tsummary_7 = tid_7 %>% bind_cols(tsoftmax_7)\n",
    "tsoftmax_8 = tpred8 %>% as.data.frame() %>% as.tbl()\n",
    "tsummary_8 = tid_8 %>% bind_cols(tsoftmax_8)"
   ]
  },
  {
   "cell_type": "code",
   "execution_count": 55,
   "metadata": {},
   "outputs": [
    {
     "data": {
      "text/html": [
       "<table>\n",
       "<thead><tr><th scope=col>acc_id</th><th scope=col>V1</th><th scope=col>V2</th><th scope=col>V3</th><th scope=col>V4</th></tr></thead>\n",
       "<tbody>\n",
       "\t<tr><td>0008086e0aaed17eac6794214ceafca85245fda11aae86803395fb7fec2e12ae</td><td>0.117730089                                                     </td><td>0.040990159                                                     </td><td>0.027088741                                                     </td><td>0.814191043                                                     </td></tr>\n",
       "\t<tr><td>001f47b245a30ed7ec35ac027bb216d06d279845a6e40868fe18fcd59eee75f0</td><td>0.311847448                                                     </td><td>0.268224418                                                     </td><td>0.086612128                                                     </td><td>0.333316028                                                     </td></tr>\n",
       "\t<tr><td>002c28264ec2ce25cceefd50c6847158b707e1ec5adcd15549b8a761986a4d37</td><td>0.559137762                                                     </td><td>0.428074986                                                     </td><td>0.008242961                                                     </td><td>0.004544275                                                     </td></tr>\n",
       "\t<tr><td>003880132c507b062064f49eea69ca8f7ab572d9b4ce58bdf8030bc609ac6c16</td><td>0.231245250                                                     </td><td>0.586722434                                                     </td><td>0.121307924                                                     </td><td>0.060724355                                                     </td></tr>\n",
       "\t<tr><td>004888a07ce205da38700e9c65878c47d3c8e438782318e561b9f073ddd0b347</td><td>0.002372435                                                     </td><td>0.008215853                                                     </td><td>0.001323127                                                     </td><td>0.988088548                                                     </td></tr>\n",
       "\t<tr><td>004e400c2cdac476f86c9b98ead3d5faa887fa8fb8ebaa75894a8e403d2d6eba</td><td>0.045716818                                                     </td><td>0.076491214                                                     </td><td>0.018857388                                                     </td><td>0.858934641                                                     </td></tr>\n",
       "</tbody>\n",
       "</table>\n"
      ],
      "text/latex": [
       "\\begin{tabular}{r|lllll}\n",
       " acc\\_id & V1 & V2 & V3 & V4\\\\\n",
       "\\hline\n",
       "\t 0008086e0aaed17eac6794214ceafca85245fda11aae86803395fb7fec2e12ae & 0.117730089                                                      & 0.040990159                                                      & 0.027088741                                                      & 0.814191043                                                     \\\\\n",
       "\t 001f47b245a30ed7ec35ac027bb216d06d279845a6e40868fe18fcd59eee75f0 & 0.311847448                                                      & 0.268224418                                                      & 0.086612128                                                      & 0.333316028                                                     \\\\\n",
       "\t 002c28264ec2ce25cceefd50c6847158b707e1ec5adcd15549b8a761986a4d37 & 0.559137762                                                      & 0.428074986                                                      & 0.008242961                                                      & 0.004544275                                                     \\\\\n",
       "\t 003880132c507b062064f49eea69ca8f7ab572d9b4ce58bdf8030bc609ac6c16 & 0.231245250                                                      & 0.586722434                                                      & 0.121307924                                                      & 0.060724355                                                     \\\\\n",
       "\t 004888a07ce205da38700e9c65878c47d3c8e438782318e561b9f073ddd0b347 & 0.002372435                                                      & 0.008215853                                                      & 0.001323127                                                      & 0.988088548                                                     \\\\\n",
       "\t 004e400c2cdac476f86c9b98ead3d5faa887fa8fb8ebaa75894a8e403d2d6eba & 0.045716818                                                      & 0.076491214                                                      & 0.018857388                                                      & 0.858934641                                                     \\\\\n",
       "\\end{tabular}\n"
      ],
      "text/markdown": [
       "\n",
       "acc_id | V1 | V2 | V3 | V4 | \n",
       "|---|---|---|---|---|---|\n",
       "| 0008086e0aaed17eac6794214ceafca85245fda11aae86803395fb7fec2e12ae | 0.117730089                                                      | 0.040990159                                                      | 0.027088741                                                      | 0.814191043                                                      | \n",
       "| 001f47b245a30ed7ec35ac027bb216d06d279845a6e40868fe18fcd59eee75f0 | 0.311847448                                                      | 0.268224418                                                      | 0.086612128                                                      | 0.333316028                                                      | \n",
       "| 002c28264ec2ce25cceefd50c6847158b707e1ec5adcd15549b8a761986a4d37 | 0.559137762                                                      | 0.428074986                                                      | 0.008242961                                                      | 0.004544275                                                      | \n",
       "| 003880132c507b062064f49eea69ca8f7ab572d9b4ce58bdf8030bc609ac6c16 | 0.231245250                                                      | 0.586722434                                                      | 0.121307924                                                      | 0.060724355                                                      | \n",
       "| 004888a07ce205da38700e9c65878c47d3c8e438782318e561b9f073ddd0b347 | 0.002372435                                                      | 0.008215853                                                      | 0.001323127                                                      | 0.988088548                                                      | \n",
       "| 004e400c2cdac476f86c9b98ead3d5faa887fa8fb8ebaa75894a8e403d2d6eba | 0.045716818                                                      | 0.076491214                                                      | 0.018857388                                                      | 0.858934641                                                      | \n",
       "\n",
       "\n"
      ],
      "text/plain": [
       "  acc_id                                                           V1         \n",
       "1 0008086e0aaed17eac6794214ceafca85245fda11aae86803395fb7fec2e12ae 0.117730089\n",
       "2 001f47b245a30ed7ec35ac027bb216d06d279845a6e40868fe18fcd59eee75f0 0.311847448\n",
       "3 002c28264ec2ce25cceefd50c6847158b707e1ec5adcd15549b8a761986a4d37 0.559137762\n",
       "4 003880132c507b062064f49eea69ca8f7ab572d9b4ce58bdf8030bc609ac6c16 0.231245250\n",
       "5 004888a07ce205da38700e9c65878c47d3c8e438782318e561b9f073ddd0b347 0.002372435\n",
       "6 004e400c2cdac476f86c9b98ead3d5faa887fa8fb8ebaa75894a8e403d2d6eba 0.045716818\n",
       "  V2          V3          V4         \n",
       "1 0.040990159 0.027088741 0.814191043\n",
       "2 0.268224418 0.086612128 0.333316028\n",
       "3 0.428074986 0.008242961 0.004544275\n",
       "4 0.586722434 0.121307924 0.060724355\n",
       "5 0.008215853 0.001323127 0.988088548\n",
       "6 0.076491214 0.018857388 0.858934641"
      ]
     },
     "metadata": {},
     "output_type": "display_data"
    }
   ],
   "source": [
    "all_tbl    = rbind(summary_1, summary_2, summary_3, summary_4, summary_5, summary_6, summary_7, summary_8)\n",
    "tall_tbl   = rbind(tsummary_1, tsummary_2, tsummary_3, tsummary_4, tsummary_5, tsummary_6, tsummary_7, tsummary_8)\n",
    "\n",
    "\n",
    "head(tall_tbl)\n",
    "tall_tbl = cbind(tall_tbl, label = apply(tall_tbl[, -1], 1, which.max) - 1)\n",
    "\n",
    "tall_tbl = tall_tbl %>% dplyr::select(acc_id, label) %>%\n",
    "           mutate(label = ifelse(label==0, '2month',\n",
    "                          ifelse(label==1, 'month',\n",
    "                          ifelse(label==2, 'retained', 'week'))))"
   ]
  }
 ],
 "metadata": {
  "kernelspec": {
   "display_name": "R",
   "language": "R",
   "name": "ir"
  },
  "language_info": {
   "codemirror_mode": "r",
   "file_extension": ".r",
   "mimetype": "text/x-r-source",
   "name": "R",
   "pygments_lexer": "r",
   "version": "3.3.2"
  }
 },
 "nbformat": 4,
 "nbformat_minor": 2
}
