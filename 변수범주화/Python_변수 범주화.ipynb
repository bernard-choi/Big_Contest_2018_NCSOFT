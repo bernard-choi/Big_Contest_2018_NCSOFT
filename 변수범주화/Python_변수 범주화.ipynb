{
 "cells": [
  {
   "cell_type": "code",
   "execution_count": null,
   "metadata": {},
   "outputs": [],
   "source": [
    "rm(list= ls())\n",
    "library(dplyr)\n",
    "library(xgboost)\n",
    "library(reshape2)\n",
    "\n",
    "####total.csv는 생성한 변수 모두 추가한 파일\n",
    "data = read.csv(\"total.csv\")\n",
    "data = data[, -1]"
   ]
  },
  {
   "cell_type": "code",
   "execution_count": null,
   "metadata": {},
   "outputs": [],
   "source": [
    "varnames = colnames(data)\n",
    "\n",
    "################\n",
    "# factorizing  #\n",
    "################\n",
    "uniquelength = NULL\n",
    "for( i in c(3:43, 45:54, 56:59, 69:81))\n",
    "{\n",
    "  l = data[,i] %>% unique() %>% length \n",
    "  uniquelength = rbind(uniquelength, data.frame(var_index = i, var_names = varnames[i], unique_length = l))\n",
    "}\n",
    "under_25 = uniquelength[uniquelength$unique_length <= 25, ]\n",
    "\n",
    "drop_index = c(44, 55, 60, 61, 62, 63, 64, 64, 65, 66, 67, 68, under_25$var_index)\n",
    "drop_index = sort(drop_index);drop_index\n",
    "\n",
    "for ( i in c(4:21,23:26,28,30:36,38:41,43,45:51,53,54,56:59, 69:77, 79,81) )\n",
    "{\n",
    "  qlist = as.vector(quantile(data[,i], 0.04*(1:24))) \n",
    "  data[,i] = as.numeric(cut(data[,i], breaks = c(-Inf, unique(qlist), Inf)))\n",
    "} \n",
    "\n"
   ]
  }
 ],
 "metadata": {
  "kernelspec": {
   "display_name": "R",
   "language": "R",
   "name": "ir"
  },
  "language_info": {
   "codemirror_mode": "r",
   "file_extension": ".r",
   "mimetype": "text/x-r-source",
   "name": "R",
   "pygments_lexer": "r",
   "version": "3.3.2"
  }
 },
 "nbformat": 4,
 "nbformat_minor": 2
}
