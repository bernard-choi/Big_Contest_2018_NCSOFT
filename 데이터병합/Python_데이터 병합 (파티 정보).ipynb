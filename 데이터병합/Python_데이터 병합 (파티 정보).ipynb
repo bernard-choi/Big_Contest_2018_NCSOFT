{
 "cells": [
  {
   "cell_type": "code",
   "execution_count": 3,
   "metadata": {},
   "outputs": [],
   "source": [
    "import pandas as pd"
   ]
  },
  {
   "cell_type": "code",
   "execution_count": 4,
   "metadata": {},
   "outputs": [],
   "source": [
    "def splitDataFrameList(df,target_column,separator):\n",
    "\n",
    "    row_accumulator = []\n",
    "\n",
    "    def splitListToRows(row, separator):\n",
    "        split_row = row[target_column].split(separator)\n",
    "        for s in split_row:\n",
    "            new_row = row.to_dict()\n",
    "            new_row[target_column] = s\n",
    "            row_accumulator.append(new_row)\n",
    "\n",
    "    df.apply(splitListToRows, axis=1, args = (separator, ))\n",
    "    new_df = pd.DataFrame(row_accumulator)\n",
    "    return new_df"
   ]
  },
  {
   "cell_type": "code",
   "execution_count": 5,
   "metadata": {},
   "outputs": [],
   "source": [
    "train = pd.read_csv(\"train_party.csv\")"
   ]
  },
  {
   "cell_type": "code",
   "execution_count": 6,
   "metadata": {},
   "outputs": [],
   "source": [
    "test = pd.read_csv(\"test_party.csv\")"
   ]
  },
  {
   "cell_type": "code",
   "execution_count": null,
   "metadata": {},
   "outputs": [],
   "source": [
    "party = train.append(test)"
   ]
  },
  {
   "cell_type": "code",
   "execution_count": null,
   "metadata": {},
   "outputs": [],
   "source": [
    "####파티 멤버 수 구하기\n",
    "def f(x) :\n",
    "    return len(x['hashed'].split(','))\n",
    "\n",
    "party['member_number'] = party.apply(f, axis = 1)"
   ]
  },
  {
   "cell_type": "code",
   "execution_count": null,
   "metadata": {},
   "outputs": [],
   "source": [
    "split = splitDataFrameList(train, 'hashed', ',')"
   ]
  },
  {
   "cell_type": "code",
   "execution_count": null,
   "metadata": {},
   "outputs": [],
   "source": [
    "split.head()"
   ]
  },
  {
   "cell_type": "code",
   "execution_count": null,
   "metadata": {},
   "outputs": [],
   "source": [
    "####\n",
    "def f(x) :\n",
    "    if x['e_time'] == 0 :\n",
    "        return 0\n",
    "    else :\n",
    "        return x['e_time']/x['total_party_time']\n",
    "    \n",
    "party['time_proportion'] = party.apply(f, axis = 1)\n",
    "\n",
    "def f1(x) :\n",
    "    return x['member_number']*x['time_proportion'] \n",
    "\n",
    "party['member_proportion'] = party.apply(f1, axis = 1)\n",
    "\n",
    "def f2(x) :\n",
    "    return "
   ]
  },
  {
   "cell_type": "code",
   "execution_count": null,
   "metadata": {},
   "outputs": [],
   "source": [
    "party1.columns = ['acc_id', 'time', 'wk']\n",
    "party2.columns = ['acc_id', 'time', 'wk']\n",
    "party3.columns = ['acc_id', 'time', 'wk']\n",
    "party4.columns = ['acc_id', 'time', 'wk']\n",
    "party5.columns = ['acc_id', 'time', 'wk']\n",
    "party6.columns = ['acc_id', 'time', 'wk']\n",
    "party7.columns = ['acc_id', 'time', 'wk']\n",
    "party8.columns = ['acc_id', 'time', 'wk']"
   ]
  },
  {
   "cell_type": "code",
   "execution_count": null,
   "metadata": {},
   "outputs": [],
   "source": [
    "party_1 = party2[party2['wk'] == 1]\n",
    "party_2 = party2[party2['wk'] == 2]\n",
    "party_3 = party2[party2['wk'] == 3]\n",
    "party_4 = party2[party2['wk'] == 4]\n",
    "party_5 = party2[party2['wk'] == 5]\n",
    "party_6 = party2[party2['wk'] == 6]\n",
    "party_7 = party2[party2['wk'] == 7]\n",
    "party_8 = party2[party2['wk'] == 8]"
   ]
  },
  {
   "cell_type": "code",
   "execution_count": null,
   "metadata": {},
   "outputs": [],
   "source": [
    "party_1 = party_1.groupby('acc_id').sum()\n",
    "party_2 = party_2.groupby('acc_id').sum()\n",
    "party_3 = party_3.groupby('acc_id').sum()\n",
    "party_4 = party_4.groupby('acc_id').sum()\n",
    "party_5 = party_5.groupby('acc_id').sum()\n",
    "party_6 = party_6.groupby('acc_id').sum()\n",
    "party_7 = party_7.groupby('acc_id').sum()\n",
    "party_8 = party_8.groupby('acc_id').sum()"
   ]
  },
  {
   "cell_type": "code",
   "execution_count": null,
   "metadata": {},
   "outputs": [],
   "source": [
    "party_1 = party_1.reset_index()\n",
    "party_2 = party_2.reset_index()\n",
    "party_3 = party_3.reset_index()\n",
    "party_4 = party_4.reset_index()\n",
    "party_5 = party_5.reset_index()\n",
    "party_6 = party_6.reset_index()\n",
    "party_7 = party_7.reset_index()\n",
    "party_8 = party_8.reset_index()"
   ]
  },
  {
   "cell_type": "code",
   "execution_count": null,
   "metadata": {},
   "outputs": [],
   "source": [
    "party_1.columns = ['acc_id', 'total_party_time', 'party_participation_number']\n",
    "party_2.columns = ['acc_id', 'total_party_time', 'party_participation_number']\n",
    "party_3.columns = ['acc_id', 'total_party_time', 'party_participation_number']\n",
    "party_4.columns = ['acc_id', 'total_party_time', 'party_participation_number']\n",
    "party_5.columns = ['acc_id', 'total_party_time', 'party_participation_number']\n",
    "party_6.columns = ['acc_id', 'total_party_time', 'party_participation_number']\n",
    "party_7.columns = ['acc_id', 'total_party_time', 'party_participation_number']\n",
    "party_8.columns = ['acc_id', 'total_party_time', 'party_participation_number']"
   ]
  },
  {
   "cell_type": "code",
   "execution_count": null,
   "metadata": {},
   "outputs": [],
   "source": []
  }
 ],
 "metadata": {
  "kernelspec": {
   "display_name": "Python 3",
   "language": "python",
   "name": "python3"
  },
  "language_info": {
   "codemirror_mode": {
    "name": "ipython",
    "version": 3
   },
   "file_extension": ".py",
   "mimetype": "text/x-python",
   "name": "python",
   "nbconvert_exporter": "python",
   "pygments_lexer": "ipython3",
   "version": "3.6.3"
  }
 },
 "nbformat": 4,
 "nbformat_minor": 2
}
