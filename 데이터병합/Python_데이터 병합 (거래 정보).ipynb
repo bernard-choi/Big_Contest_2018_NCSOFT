{
 "cells": [
  {
   "cell_type": "code",
   "execution_count": 1,
   "metadata": {},
   "outputs": [],
   "source": [
    "import pandas as pd"
   ]
  },
  {
   "cell_type": "code",
   "execution_count": 2,
   "metadata": {},
   "outputs": [],
   "source": [
    "train = pd.read_csv(\"train_trade.csv\")"
   ]
  },
  {
   "cell_type": "code",
   "execution_count": 4,
   "metadata": {},
   "outputs": [],
   "source": [
    "test = pd.read_csv(\"test_trade.csv\")"
   ]
  },
  {
   "cell_type": "code",
   "execution_count": null,
   "metadata": {},
   "outputs": [],
   "source": [
    "trade = train.append(test)"
   ]
  },
  {
   "cell_type": "code",
   "execution_count": null,
   "metadata": {},
   "outputs": [],
   "source": [
    "trade['num_trade'] = 1"
   ]
  },
  {
   "cell_type": "code",
   "execution_count": null,
   "metadata": {},
   "outputs": [],
   "source": [
    "source_total_trade = trade[['source_acc_id', 'num_trade']].groupby('source_acc_id').sum()\n",
    "\n",
    "source_total_trade = source_total_trade.reset_index()\n",
    "\n",
    "source_total_trade.columns = ['source_acc_id', 'source_num_trade']"
   ]
  },
  {
   "cell_type": "code",
   "execution_count": null,
   "metadata": {},
   "outputs": [],
   "source": [
    "target_total_trade = trade[['target_acc_id', 'num_trade']].groupby('target_acc_id').sum()\n",
    "\n",
    "target_total_trade = target_total_trade.reset_index()\n",
    "\n",
    "target_total_trade.columns = ['target_acc_id', 'target_num_trade']"
   ]
  },
  {
   "cell_type": "code",
   "execution_count": null,
   "metadata": {},
   "outputs": [],
   "source": [
    "trade = trade.drop('trade_day', axis = 1)\n",
    "\n",
    "trade = trade.drop('trade_time', axis = 1)"
   ]
  },
  {
   "cell_type": "code",
   "execution_count": null,
   "metadata": {},
   "outputs": [],
   "source": [
    "trade.columns = ['wk', 'source_acc_id', 'target_acc_id', 'item_type',\n",
    "       'item_amount', 'num_trade']"
   ]
  },
  {
   "cell_type": "code",
   "execution_count": null,
   "metadata": {},
   "outputs": [],
   "source": [
    "trade = trade.drop('index', axis = 1)"
   ]
  },
  {
   "cell_type": "code",
   "execution_count": null,
   "metadata": {},
   "outputs": [],
   "source": [
    "#source_trade\n",
    "\n",
    "source_trade = trade[['wk', 'source_acc_id', 'num_trade']].groupby(['wk', 'source_acc_id']).sum()\n",
    "\n",
    "source_trade = source_trade.reset_index()\n",
    "\n",
    "source_trade.columns = ['wk', 'source_acc_id', 'source_num_trade']\n",
    "\n",
    "source_total_trade.columns = ['source_acc_id', 'total_source_num_trade']\n",
    "\n",
    "source_trade = source_trade.merge(source_total_trade, on = 'source_acc_id')\n",
    "\n",
    "def f(x) :\n",
    "    return x['source_num_trade']/x['total_source_num_trade']\n",
    "\n",
    "source_trade['source_rate_trade'] = source_trade.apply(f, axis = 1)"
   ]
  },
  {
   "cell_type": "code",
   "execution_count": null,
   "metadata": {},
   "outputs": [],
   "source": [
    "#target_trade\n",
    "\n",
    "target_trade = trade[['wk', 'target_acc_id', 'num_trade']].groupby(['wk', 'target_acc_id']).sum()\n",
    "\n",
    "target_trade = target_trade.reset_index()\n",
    "\n",
    "target_trade.columns = ['wk', 'target_acc_id', 'target_num_trade']\n",
    "\n",
    "target_total_trade.columns = ['target_acc_id', 'total_target_num_trade']\n",
    "\n",
    "target_trade = target_trade.merge(target_total_trade, on = 'target_acc_id')\n",
    "\n",
    "def f(x) :\n",
    "    return x['target_num_trade']/x['total_target_num_trade']\n",
    "\n",
    "target_trade['target_rate_trade'] = target_trade.apply(f, axis = 1)"
   ]
  }
 ],
 "metadata": {
  "kernelspec": {
   "display_name": "Python 3",
   "language": "python",
   "name": "python3"
  },
  "language_info": {
   "codemirror_mode": {
    "name": "ipython",
    "version": 3
   },
   "file_extension": ".py",
   "mimetype": "text/x-python",
   "name": "python",
   "nbconvert_exporter": "python",
   "pygments_lexer": "ipython3",
   "version": "3.6.3"
  }
 },
 "nbformat": 4,
 "nbformat_minor": 2
}
