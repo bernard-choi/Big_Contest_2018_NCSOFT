{
 "cells": [
  {
   "cell_type": "markdown",
   "metadata": {},
   "source": [
    "1. 결제 정보"
   ]
  },
  {
   "cell_type": "code",
   "execution_count": 1,
   "metadata": {},
   "outputs": [],
   "source": [
    "import pandas as pd"
   ]
  },
  {
   "cell_type": "code",
   "execution_count": 6,
   "metadata": {},
   "outputs": [],
   "source": [
    "train_payment = pd.read_csv(\"train_payment.csv\")\n",
    "test_payment = pd.read_csv(\"test_payment.csv\")"
   ]
  },
  {
   "cell_type": "code",
   "execution_count": 8,
   "metadata": {},
   "outputs": [],
   "source": [
    "payment = train_payment.append(test_payment)"
   ]
  },
  {
   "cell_type": "code",
   "execution_count": 33,
   "metadata": {},
   "outputs": [],
   "source": [
    "####pay_exist 변수 \n",
    "\n",
    "def f(x) :\n",
    "    if x['payment_amount'] == 0 :\n",
    "        return 0\n",
    "    else :\n",
    "        return 1\n",
    "    \n",
    "payment['pay_exist'] = payment.apply(f, axis = 1)"
   ]
  },
  {
   "cell_type": "code",
   "execution_count": null,
   "metadata": {},
   "outputs": [],
   "source": [
    "####total_payment_amount 변수\n",
    "\n",
    "total_payment_amount = payment.groupby('acc_id').sum().reset_index()[['acc_id', 'payment_amount']]\n",
    "\n",
    "total_payment_amount.columns = ['acc_id' ,'total_payment_amount']\n",
    "\n",
    "payment = payment.merge(total_payment_amount, on = 'acc_id')"
   ]
  },
  {
   "cell_type": "code",
   "execution_count": 50,
   "metadata": {},
   "outputs": [],
   "source": [
    "####total_num_pay 변수\n",
    "\n",
    "total_num_pay = payment.groupby('acc_id').sum().reset_index()[['acc_id', 'pay_exist']]\n",
    "\n",
    "total_num_pay.columns = ['acc_id' ,'total_num_pay']\n",
    "\n",
    "payment = payment.merge(total_num_pay, on = 'acc_id')"
   ]
  },
  {
   "cell_type": "code",
   "execution_count": null,
   "metadata": {},
   "outputs": [],
   "source": [
    "####payment_rate 변수\n",
    "\n",
    "def f(x) :\n",
    "    if x['total_payment_amount'] == 0 :\n",
    "        return 0\n",
    "    else :\n",
    "        return x['payment_amount']/x['total_payment_amount']\n",
    "    \n",
    "payment['payment_rate'] = payment.apply(f, axis = 1)"
   ]
  }
 ],
 "metadata": {
  "kernelspec": {
   "display_name": "Python 3",
   "language": "python",
   "name": "python3"
  },
  "language_info": {
   "codemirror_mode": {
    "name": "ipython",
    "version": 3
   },
   "file_extension": ".py",
   "mimetype": "text/x-python",
   "name": "python",
   "nbconvert_exporter": "python",
   "pygments_lexer": "ipython3",
   "version": "3.6.3"
  }
 },
 "nbformat": 4,
 "nbformat_minor": 2
}
