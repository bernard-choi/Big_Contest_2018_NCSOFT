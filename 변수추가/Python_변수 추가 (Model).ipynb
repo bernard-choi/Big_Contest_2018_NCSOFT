{
 "cells": [
  {
   "cell_type": "code",
   "execution_count": 1,
   "metadata": {},
   "outputs": [],
   "source": [
    "import pandas as pd"
   ]
  },
  {
   "cell_type": "code",
   "execution_count": 2,
   "metadata": {},
   "outputs": [],
   "source": [
    "train = pd.read_csv(\"train_activity.csv\")"
   ]
  },
  {
   "cell_type": "code",
   "execution_count": 3,
   "metadata": {},
   "outputs": [],
   "source": [
    "test = pd.read_csv(\"test_activity.csv\")"
   ]
  },
  {
   "cell_type": "code",
   "execution_count": 6,
   "metadata": {},
   "outputs": [],
   "source": [
    "total = train.append(test)"
   ]
  },
  {
   "cell_type": "code",
   "execution_count": 8,
   "metadata": {},
   "outputs": [],
   "source": [
    "####length 변수 \n",
    "\n",
    "total['length'] = 1\n",
    "\n",
    "length = total[['acc_id', 'length']].groupby('acc_id').sum().reset_index()\n",
    "\n",
    "total = total.drop('length', axis = 1)\n",
    "\n",
    "total = total.merge(length, on = 'acc_id')"
   ]
  },
  {
   "cell_type": "code",
   "execution_count": 26,
   "metadata": {},
   "outputs": [],
   "source": [
    "total['X1wk'] = ''\n",
    "total['X2wk'] = ''\n",
    "total['X3wk'] = ''\n",
    "total['X4wk'] = ''\n",
    "total['X5wk'] = ''\n",
    "total['X6wk'] = ''\n",
    "total['X7wk'] = ''\n",
    "total['X8wk'] = ''"
   ]
  },
  {
   "cell_type": "code",
   "execution_count": 32,
   "metadata": {},
   "outputs": [],
   "source": [
    "def f(x) :\n",
    "    if x['wk'] == 1 :\n",
    "        return 1\n",
    "    else :\n",
    "        return 0\n",
    "\n",
    "total['X1wk'] = total.apply(f, axis = 1)"
   ]
  },
  {
   "cell_type": "code",
   "execution_count": 35,
   "metadata": {},
   "outputs": [],
   "source": [
    "def f(x) :\n",
    "    if x['wk'] == 2 :\n",
    "        return 1\n",
    "    else :\n",
    "        return 0\n",
    "\n",
    "total['X2wk'] = total.apply(f, axis = 1)"
   ]
  },
  {
   "cell_type": "code",
   "execution_count": 36,
   "metadata": {},
   "outputs": [],
   "source": [
    "def f(x) :\n",
    "    if x['wk'] == 3 :\n",
    "        return 1\n",
    "    else :\n",
    "        return 0\n",
    "\n",
    "total['X3wk'] = total.apply(f, axis = 1)"
   ]
  },
  {
   "cell_type": "code",
   "execution_count": 37,
   "metadata": {},
   "outputs": [],
   "source": [
    "def f(x) :\n",
    "    if x['wk'] == 4 :\n",
    "        return 1\n",
    "    else :\n",
    "        return 0\n",
    "\n",
    "total['X4wk'] = total.apply(f, axis = 1)"
   ]
  },
  {
   "cell_type": "code",
   "execution_count": 38,
   "metadata": {},
   "outputs": [],
   "source": [
    "def f(x) :\n",
    "    if x['wk'] == 5 :\n",
    "        return 1\n",
    "    else :\n",
    "        return 0\n",
    "\n",
    "total['X5wk'] = total.apply(f, axis = 1)"
   ]
  },
  {
   "cell_type": "code",
   "execution_count": 39,
   "metadata": {},
   "outputs": [],
   "source": [
    "def f(x) :\n",
    "    if x['wk'] == 6 :\n",
    "        return 1\n",
    "    else :\n",
    "        return 0\n",
    "\n",
    "total['X6wk'] = total.apply(f, axis = 1)"
   ]
  },
  {
   "cell_type": "code",
   "execution_count": 40,
   "metadata": {},
   "outputs": [],
   "source": [
    "def f(x) :\n",
    "    if x['wk'] == 7 :\n",
    "        return 1\n",
    "    else :\n",
    "        return 0\n",
    "\n",
    "total['X7wk'] = total.apply(f, axis = 1)"
   ]
  },
  {
   "cell_type": "code",
   "execution_count": 41,
   "metadata": {},
   "outputs": [],
   "source": [
    "def f(x) :\n",
    "    if x['wk'] == 8 :\n",
    "        return 1\n",
    "    else :\n",
    "        return 0\n",
    "\n",
    "total['X8wk'] = total.apply(f, axis = 1)"
   ]
  },
  {
   "cell_type": "code",
   "execution_count": 45,
   "metadata": {},
   "outputs": [],
   "source": [
    "####X1wk, X2wk, X3wk, X4wk, X5wk, X6wk, X7wk, X8wk 변수\n",
    "\n",
    "wk = total.groupby('acc_id').sum().reset_index()[['acc_id' , 'X1wk', 'X2wk', 'X3wk', 'X4wk', 'X5wk', 'X6wk', 'X7wk', 'X8wk']]\n",
    "\n",
    "total = total.drop(['X1wk', 'X2wk', 'X3wk', 'X4wk', 'X5wk', 'X6wk', 'X7wk', 'X8wk'], axis = 1)\n",
    "\n",
    "total = total.merge(wk, on = 'acc_id')"
   ]
  },
  {
   "cell_type": "code",
   "execution_count": null,
   "metadata": {},
   "outputs": [],
   "source": []
  }
 ],
 "metadata": {
  "kernelspec": {
   "display_name": "Python 3",
   "language": "python",
   "name": "python3"
  },
  "language_info": {
   "codemirror_mode": {
    "name": "ipython",
    "version": 3
   },
   "file_extension": ".py",
   "mimetype": "text/x-python",
   "name": "python",
   "nbconvert_exporter": "python",
   "pygments_lexer": "ipython3",
   "version": "3.6.3"
  }
 },
 "nbformat": 4,
 "nbformat_minor": 2
}
