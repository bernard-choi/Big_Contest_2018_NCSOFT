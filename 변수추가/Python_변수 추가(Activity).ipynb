{
 "cells": [
  {
   "cell_type": "code",
   "execution_count": 1,
   "metadata": {},
   "outputs": [],
   "source": [
    "import pandas as pd"
   ]
  },
  {
   "cell_type": "code",
   "execution_count": 2,
   "metadata": {},
   "outputs": [],
   "source": [
    "act = pd.read_csv(\"test_activity.csv\")"
   ]
  },
  {
   "cell_type": "code",
   "execution_count": 6,
   "metadata": {},
   "outputs": [
    {
     "data": {
      "text/plain": [
       "Index(['wk', 'acc_id', 'cnt_dt', 'play_time', 'npc_exp', 'npc_hongmun',\n",
       "       'quest_exp', 'quest_hongmun', 'item_hongmun', 'game_combat_time',\n",
       "       'get_money', 'duel_cnt', 'duel_win', 'partybattle_cnt',\n",
       "       'partybattle_win', 'cnt_enter_inzone_solo', 'cnt_enter_inzone_light',\n",
       "       'cnt_enter_inzone_skilled', 'cnt_enter_inzone_normal', 'cnt_enter_raid',\n",
       "       'cnt_enter_raid_light', 'cnt_enter_bam', 'cnt_clear_inzone_solo',\n",
       "       'cnt_clear_inzone_light', 'cnt_clear_inzone_skilled',\n",
       "       'cnt_clear_inzone_normal', 'cnt_clear_raid', 'cnt_clear_raid_light',\n",
       "       'cnt_clear_bam', 'normal_chat', 'whisper_chat', 'district_chat',\n",
       "       'party_chat', 'guild_chat', 'faction_chat', 'cnt_use_buffitem',\n",
       "       'gathering_cnt', 'making_cnt'],\n",
       "      dtype='object')"
      ]
     },
     "execution_count": 6,
     "metadata": {},
     "output_type": "execute_result"
    }
   ],
   "source": [
    "act.columns"
   ]
  },
  {
   "cell_type": "code",
   "execution_count": 7,
   "metadata": {},
   "outputs": [],
   "source": [
    "####combat_per_play 변수\n",
    "\n",
    "def f(x) :\n",
    "    return x['game_combat_time']/x['play_time']\n",
    "\n",
    "act['combat_per_play'] = act.apply(f, axis = 1)"
   ]
  },
  {
   "cell_type": "code",
   "execution_count": 8,
   "metadata": {},
   "outputs": [],
   "source": [
    "####cnt_rate_inzone_solo 변수\n",
    "\n",
    "def f(x) :\n",
    "    if x['cnt_enter_inzone_solo'] == 0 :\n",
    "        return 0\n",
    "    else :\n",
    "        return x['cnt_clear_inzone_solo']/x['cnt_enter_inzone_solo']\n",
    "    \n",
    "act['cnt_rate_inzone_solo'] = act.apply(f, axis = 1)"
   ]
  },
  {
   "cell_type": "code",
   "execution_count": 10,
   "metadata": {},
   "outputs": [],
   "source": [
    "####cnt_rate_inzone_light 변수\n",
    "\n",
    "def f(x) :\n",
    "    if x['cnt_enter_inzone_light'] == 0 :\n",
    "        return 0\n",
    "    else :\n",
    "        return x['cnt_clear_inzone_light']/x['cnt_enter_inzone_light']\n",
    "    \n",
    "act['cnt_rate_inzone_light'] = act.apply(f, axis = 1)"
   ]
  },
  {
   "cell_type": "code",
   "execution_count": null,
   "metadata": {},
   "outputs": [],
   "source": [
    "####cnt_rate_inzone_skilled 변수\n",
    "\n",
    "def f(x) :\n",
    "    if x['cnt_enter_inzone_skilled'] == 0 :\n",
    "        return 0\n",
    "    else :\n",
    "        return x['cnt_clear_inzone_skilled']/x['cnt_enter_inzone_skilled']\n",
    "    \n",
    "act['cnt_rate_inzone_skilled'] = act.apply(f, axis = 1)"
   ]
  },
  {
   "cell_type": "code",
   "execution_count": null,
   "metadata": {},
   "outputs": [],
   "source": [
    "####cnt_rate_raid변수\n",
    "\n",
    "def f(x) :\n",
    "    if x['cnt_enter_raid'] == 0 :\n",
    "        return 0\n",
    "    else :\n",
    "        return x['cnt_clear_raid']/x['cnt_enter_raid']\n",
    "    \n",
    "act['cnt_rate_raid'] = act.apply(f, axis = 1)"
   ]
  },
  {
   "cell_type": "code",
   "execution_count": null,
   "metadata": {},
   "outputs": [],
   "source": [
    "####cnt_rate_raid_light변수\n",
    "\n",
    "def f(x) :\n",
    "    if x['cnt_enter_raid_light'] == 0 :\n",
    "        return 0\n",
    "    else :\n",
    "        return x['cnt_clear_raid_light']/x['cnt_enter_raid_light']\n",
    "    \n",
    "act['cnt_rate_raid_light'] = act.apply(f, axis = 1)"
   ]
  },
  {
   "cell_type": "code",
   "execution_count": null,
   "metadata": {},
   "outputs": [],
   "source": [
    "####cnt_rate_bam변수\n",
    "\n",
    "def f(x) :\n",
    "    if x['cnt_enter_bam'] == 0 :\n",
    "        return 0\n",
    "    else :\n",
    "        return x['cnt_clear_bam']/x['cnt_enter_bam']\n",
    "    \n",
    "act['cnt_rate_bam'] = act.apply(f, axis = 1)"
   ]
  },
  {
   "cell_type": "code",
   "execution_count": null,
   "metadata": {},
   "outputs": [],
   "source": [
    "####duel_rate변수\n",
    "\n",
    "def f(x) :\n",
    "    if x['duel_cnt'] == 0 :\n",
    "        return 0\n",
    "    else :\n",
    "        return x['duel_win']/x['duel_cnt']\n",
    "    \n",
    "act['duel_rate'] = act.apply(f, axis = 1)"
   ]
  },
  {
   "cell_type": "code",
   "execution_count": null,
   "metadata": {},
   "outputs": [],
   "source": [
    "####game_efficiency변수\n",
    "\n",
    "def f(x) :\n",
    "    return (x['npc_exp'] + x['npc_hongmun'] + x['quest_exp'] + x['quest_hongmun'])/x['play_time']\n",
    "    \n",
    "act['game_efficiency'] = act.apply(f, axis = 1)"
   ]
  },
  {
   "cell_type": "code",
   "execution_count": null,
   "metadata": {},
   "outputs": [],
   "source": [
    "####partybattle_rate변수\n",
    "\n",
    "def f(x) :\n",
    "    if x['partybattle_cnt'] == 0 :\n",
    "        return 0\n",
    "    else :\n",
    "        return x['partybattle_win']/x['partybattle_cnt']\n",
    "    \n",
    "act['partybattle_rate'] = act.apply(f, axis = 1)"
   ]
  }
 ],
 "metadata": {
  "kernelspec": {
   "display_name": "Python 3",
   "language": "python",
   "name": "python3"
  },
  "language_info": {
   "codemirror_mode": {
    "name": "ipython",
    "version": 3
   },
   "file_extension": ".py",
   "mimetype": "text/x-python",
   "name": "python",
   "nbconvert_exporter": "python",
   "pygments_lexer": "ipython3",
   "version": "3.6.3"
  }
 },
 "nbformat": 4,
 "nbformat_minor": 2
}
