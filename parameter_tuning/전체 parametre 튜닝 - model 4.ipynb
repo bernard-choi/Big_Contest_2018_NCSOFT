{
 "cells": [
  {
   "cell_type": "code",
   "execution_count": 1,
   "metadata": {},
   "outputs": [
    {
     "name": "stderr",
     "output_type": "stream",
     "text": [
      "\n",
      "Attaching package: ‘dplyr’\n",
      "\n",
      "The following objects are masked from ‘package:stats’:\n",
      "\n",
      "    filter, lag\n",
      "\n",
      "The following objects are masked from ‘package:base’:\n",
      "\n",
      "    intersect, setdiff, setequal, union\n",
      "\n",
      "\n",
      "Attaching package: ‘xgboost’\n",
      "\n",
      "The following object is masked from ‘package:dplyr’:\n",
      "\n",
      "    slice\n",
      "\n"
     ]
    }
   ],
   "source": [
    "data = read.csv(\"0914_categorized.csv\")\n",
    "\n",
    "library(dplyr)\n",
    "library(xgboost)\n",
    "library(DT)\n",
    "library(Matrix)"
   ]
  },
  {
   "cell_type": "code",
   "execution_count": 2,
   "metadata": {},
   "outputs": [],
   "source": [
    "data = data[,-1]\n",
    "\n",
    "train = data[data$label != \"testset\", ] \n",
    "data4 = train  %>% filter(length == 4) %>% unique()\n",
    "wide4 = data4  %>% group_by(acc_id) %>% mutate(index = row_number()) %>% as.data.frame()\n",
    "wide4 = reshape(wide4, idvar = \"acc_id\", timevar = \"index\", direction = \"wide\")\n",
    "id_4  = wide4 %>% dplyr::select(acc_id)\n",
    "wide4 = wide4 %>% dplyr::select(-wk.1, -wk.2, -wk.3,-wk.4, -acc_id)\n",
    "wide4$label.1 = as.integer(wide4$label.1) - 1\n",
    "wide4$label.1[which(wide4$label.1 == 4)] = 3\n",
    "ans4          = wide4$label.1\n",
    "wide4         = wide4 %>% dplyr::select(-label.1, -label.2, -label.3, -label.4)\n",
    "data_matrix4  = xgb.DMatrix(data  = as.matrix(wide4), \n",
    "                             label = ans4)   "
   ]
  },
  {
   "cell_type": "code",
   "execution_count": 3,
   "metadata": {},
   "outputs": [],
   "source": [
    "f1_calcul = function(table_eval){\n",
    "  {\n",
    "    fffmea = 8 / {\n",
    "      1 / (table_eval[1,1] / sum(table_eval[,1])) +\n",
    "        1 / (table_eval[2,2] / sum(table_eval[,2])) +\n",
    "        1 / (table_eval[3,3] / sum(table_eval[,3])) +\n",
    "        1 / (table_eval[4,4] / sum(table_eval[,4])) +\n",
    "        1 / (table_eval[1,1] / sum(table_eval[1,])) +\n",
    "        1 / (table_eval[2,2] / sum(table_eval[2,])) +\n",
    "        1 / (table_eval[3,3] / sum(table_eval[3,])) +\n",
    "        1 / (table_eval[4,4] / sum(table_eval[4,]))\n",
    "    } \n",
    "    return(fffmea)\n",
    "  }}\n"
   ]
  },
  {
   "cell_type": "code",
   "execution_count": 4,
   "metadata": {},
   "outputs": [],
   "source": [
    "as.numeric.factor = function(x) {as.numeric(levels(x))[x]}\n",
    "\n",
    "f1.max = function(preds, dtrain) {\n",
    "  labels = getinfo(dtrain, \"label\")\n",
    "  preds = matrix(preds, ncol=4, byrow=TRUE)\n",
    "  table_eval = table(apply(preds,1,which.max)-1, labels)\n",
    "  err = f1_calcul(table_eval)\n",
    "  return(list(metric = \"f1\", value = err))\n",
    "}"
   ]
  },
  {
   "cell_type": "code",
   "execution_count": null,
   "metadata": {},
   "outputs": [
    {
     "name": "stderr",
     "output_type": "stream",
     "text": [
      "Warning message in xgb.get.DMatrix(data, label, missing):\n",
      "“xgboost: label will be ignored.”"
     ]
    },
    {
     "name": "stdout",
     "output_type": "stream",
     "text": [
      "[1]\ttrain-f1:0.553654+0.020183\ttest-f1:0.509465+0.011722 \n",
      "Multiple eval metrics are present. Will use test_f1 for early stopping.\n",
      "Will train until test_f1 hasn't improved in 8 rounds.\n",
      "\n",
      "[6]\ttrain-f1:0.609065+0.003724\ttest-f1:0.562619+0.018138 \n",
      "[11]\ttrain-f1:0.626710+0.003928\ttest-f1:0.570269+0.012802 \n",
      "[16]\ttrain-f1:0.644902+0.004388\ttest-f1:0.581875+0.009943 \n",
      "[21]\ttrain-f1:0.656592+0.006428\ttest-f1:0.587644+0.009963 \n",
      "[26]\ttrain-f1:0.669738+0.003649\ttest-f1:0.591525+0.015668 \n",
      "[31]\ttrain-f1:0.684474+0.003661\ttest-f1:0.595522+0.008239 \n",
      "[36]\ttrain-f1:0.697788+0.005576\ttest-f1:0.594539+0.008840 \n",
      "Stopping. Best iteration:\n",
      "[31]\ttrain-f1:0.684474+0.003661\ttest-f1:0.595522+0.008239\n",
      "\n"
     ]
    },
    {
     "name": "stderr",
     "output_type": "stream",
     "text": [
      "Warning message in xgb.get.DMatrix(data, label, missing):\n",
      "“xgboost: label will be ignored.”"
     ]
    }
   ],
   "source": [
    "best_param = list()\n",
    "best_seednumber = 1234\n",
    "best_f1score = 0\n",
    "best_f1score_index = 0\n",
    "library(xgboost)\n",
    "for (iter in 1:20) \n",
    "    \n",
    "{\n",
    "  xgb_params4 <- list(objective = \"multi:softprob\",\n",
    "                eval_metric = f1.max,\n",
    "                num_class = 4,\n",
    "                max_depth = sample(40:60, 1),\n",
    "                eta = runif(1, .01, .3),\n",
    "                gamma = runif(1, 0.0, 0.2), \n",
    "                subsample = runif(1, .6, .9),\n",
    "                colsample_bytree = runif(1, .5, .8), \n",
    "                min_child_weight = sample(1:40, 1),\n",
    "                max_delta_step = sample(1:10, 1)\n",
    "  )\n",
    "  cv.nround = 1000\n",
    "  cv.nfold = 5\n",
    "  seed.number = sample.int(10000, 1)[[1]]\n",
    "  set.seed(seed.number)\n",
    "  mdcv <- xgb.cv(data=data_matrix4, label = ans4, params = xgb_params4, \n",
    "                 nfold=cv.nfold, nrounds=cv.nround, prediction = TRUE, \n",
    "                 maximize = TRUE, verbose = TRUE,\n",
    "                 early_stopping_rounds=8,\n",
    "                 print_every_n = 5,\n",
    "                 callback(cb.cv.predict(save_models = TRUE)))\n",
    "  \n",
    "  max_f1score = max(mdcv$evaluation_log[, test_f1_mean])\n",
    "  max_f1score_index = which.min(mdcv$evaluation_log[, test_f1_mean])\n",
    "   \n",
    "  if (max_f1score > best_f1score) {\n",
    "   best_f1score = max_f1score\n",
    "   best_f1score_index = max_f1score_index\n",
    "   best_seednumber = seed.number\n",
    "   best_param = xgb_params4\n",
    "  }\n",
    "}\n"
   ]
  }
 ],
 "metadata": {
  "kernelspec": {
   "display_name": "R",
   "language": "R",
   "name": "ir"
  },
  "language_info": {
   "codemirror_mode": "r",
   "file_extension": ".r",
   "mimetype": "text/x-r-source",
   "name": "R",
   "pygments_lexer": "r",
   "version": "3.3.2"
  }
 },
 "nbformat": 4,
 "nbformat_minor": 2
}
