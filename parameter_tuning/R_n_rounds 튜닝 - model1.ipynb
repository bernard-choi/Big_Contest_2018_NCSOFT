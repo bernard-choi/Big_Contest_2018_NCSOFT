{
 "cells": [
  {
   "cell_type": "code",
   "execution_count": 1,
   "metadata": {},
   "outputs": [
    {
     "name": "stderr",
     "output_type": "stream",
     "text": [
      "\n",
      "Attaching package: ‘dplyr’\n",
      "\n",
      "The following objects are masked from ‘package:stats’:\n",
      "\n",
      "    filter, lag\n",
      "\n",
      "The following objects are masked from ‘package:base’:\n",
      "\n",
      "    intersect, setdiff, setequal, union\n",
      "\n",
      "\n",
      "Attaching package: ‘xgboost’\n",
      "\n",
      "The following object is masked from ‘package:dplyr’:\n",
      "\n",
      "    slice\n",
      "\n"
     ]
    }
   ],
   "source": [
    "library(dplyr)\n",
    "library(xgboost)\n",
    "library(reshape2)"
   ]
  },
  {
   "cell_type": "code",
   "execution_count": 2,
   "metadata": {},
   "outputs": [],
   "source": [
    "data = read.csv(\"0914_categorized.csv\")"
   ]
  },
  {
   "cell_type": "code",
   "execution_count": 4,
   "metadata": {},
   "outputs": [],
   "source": [
    "data = data[,-1]"
   ]
  },
  {
   "cell_type": "code",
   "execution_count": 8,
   "metadata": {},
   "outputs": [],
   "source": [
    "data1 = data  %>% filter(length == 1) %>% unique()"
   ]
  },
  {
   "cell_type": "code",
   "execution_count": 9,
   "metadata": {},
   "outputs": [],
   "source": [
    "wide1 = data1  %>% group_by(acc_id) %>% mutate(index = row_number()) %>% as.data.frame()\n",
    "wide1 = reshape(wide1, idvar = \"acc_id\", timevar = \"index\", direction = \"wide\")"
   ]
  },
  {
   "cell_type": "code",
   "execution_count": 10,
   "metadata": {},
   "outputs": [],
   "source": [
    "id_1  = wide1 %>% dplyr::select(acc_id)"
   ]
  },
  {
   "cell_type": "code",
   "execution_count": 11,
   "metadata": {},
   "outputs": [],
   "source": [
    "wide1 = wide1 %>% dplyr::select(-wk.1, -acc_id)"
   ]
  },
  {
   "cell_type": "code",
   "execution_count": 12,
   "metadata": {},
   "outputs": [],
   "source": [
    "wide1$label.1 = as.integer(wide1$label.1) - 1\n",
    "wide1$label.1[which(wide1$label.1 == 4)] = 3\n",
    "ans1          = wide1$label.1\n",
    "wide1         = wide1 %>% dplyr::select(-label.1)\n",
    "data_matrix1  = xgb.DMatrix(data  = as.matrix(wide1), \n",
    "                              label = ans1)"
   ]
  },
  {
   "cell_type": "code",
   "execution_count": 13,
   "metadata": {},
   "outputs": [],
   "source": [
    "# XGboost (param 조정해야하는 거 많음)\n",
    "## User Function ##\n",
    "f1_calcul = function(table_eval){\n",
    "  {\n",
    "    fffmea = 8 / {\n",
    "      1 / (table_eval[1,1] / sum(table_eval[,1])) +\n",
    "        1 / (table_eval[2,2] / sum(table_eval[,2])) +\n",
    "        1 / (table_eval[3,3] / sum(table_eval[,3])) +\n",
    "        1 / (table_eval[4,4] / sum(table_eval[,4])) +\n",
    "        1 / (table_eval[1,1] / sum(table_eval[1,])) +\n",
    "        1 / (table_eval[2,2] / sum(table_eval[2,])) +\n",
    "        1 / (table_eval[3,3] / sum(table_eval[3,])) +\n",
    "        1 / (table_eval[4,4] / sum(table_eval[4,]))\n",
    "    } \n",
    "    return(fffmea)\n",
    "  }}"
   ]
  },
  {
   "cell_type": "code",
   "execution_count": 14,
   "metadata": {},
   "outputs": [],
   "source": [
    "as.numeric.factor = function(x) {as.numeric(levels(x))[x]}\n",
    "\n",
    "f1.max = function(preds, dtrain) {\n",
    "  labels = getinfo(dtrain, \"label\")\n",
    "  preds = matrix(preds, ncol=4, byrow=TRUE)\n",
    "  table_eval = table(apply(preds,1,which.max)-1, labels)\n",
    "  err = f1_calcul(table_eval)\n",
    "  return(list(metric = \"f1\", value = err))\n",
    "}"
   ]
  },
  {
   "cell_type": "code",
   "execution_count": 15,
   "metadata": {},
   "outputs": [],
   "source": [
    "xgb_params1 = list(objective = \"multi:softprob\",\n",
    "                     eval_metric = f1.max,\n",
    "                     num_class   = 4,\n",
    "                     max_depth   = 25,                       \n",
    "                     eta         = 0.08,                     \n",
    "                     gamma       = 0.3,\n",
    "                     lamda       = 0.0,\n",
    "                     alpha       = 1.0,\n",
    "                     max_delta_step = 5,                    \n",
    "                     colsample_bytree = 0.8,\n",
    "                     subsample = 0.8,\n",
    "                     min_child_weight = 5 )"
   ]
  },
  {
   "cell_type": "code",
   "execution_count": null,
   "metadata": {},
   "outputs": [
    {
     "name": "stderr",
     "output_type": "stream",
     "text": [
      "Warning message in xgb.get.DMatrix(data, label, missing):\n",
      "“xgboost: label will be ignored.”"
     ]
    }
   ],
   "source": [
    "a1    = xgb.cv(params = xgb_params1,\n",
    "                data = data_matrix1,\n",
    "                label = ans1,\n",
    "                nrounds = 1000,\n",
    "                prediction = TRUE,\n",
    "                nfold = 5,\n",
    "                maximize = TRUE,\n",
    "                print_every_n = 10,\n",
    "                early_stopping_rounds = 20,\n",
    "                verbose = 1,\n",
    "                callback(cb.cv.predict(save_models = TRUE)))"
   ]
  },
  {
   "cell_type": "code",
   "execution_count": 17,
   "metadata": {},
   "outputs": [
    {
     "data": {
      "text/html": [
       "109"
      ],
      "text/latex": [
       "109"
      ],
      "text/markdown": [
       "109"
      ],
      "text/plain": [
       "[1] 109"
      ]
     },
     "metadata": {},
     "output_type": "display_data"
    }
   ],
   "source": [
    "a1$best_iteration"
   ]
  }
 ],
 "metadata": {
  "kernelspec": {
   "display_name": "R",
   "language": "R",
   "name": "ir"
  },
  "language_info": {
   "codemirror_mode": "r",
   "file_extension": ".r",
   "mimetype": "text/x-r-source",
   "name": "R",
   "pygments_lexer": "r",
   "version": "3.3.2"
  }
 },
 "nbformat": 4,
 "nbformat_minor": 2
}
